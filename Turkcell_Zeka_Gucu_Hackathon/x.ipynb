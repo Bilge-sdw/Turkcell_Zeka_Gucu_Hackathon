{
 "cells": [
  {
   "cell_type": "markdown",
   "metadata": {},
   "source": [
    "# Kütüphaneleri Yükleme"
   ]
  },
  {
   "cell_type": "code",
   "execution_count": 1,
   "metadata": {},
   "outputs": [],
   "source": [
    "import pandas as pd #Veri manipülasyonu ve analizi için kullanılır.\n",
    "import re #Düzenli ifadeleri işlemek için kullanılır.\n",
    "import textstat #Metinlerin okunabilirliğini ve karmaşıklığını değerlendirmek için kullanılır.\n",
    "from langdetect import detect #Metnin dilini tespit etmek için kullanılır.\n",
    "import tkinter as tk #Kullanıcı ara yüzü oluşturmak için kullanılır.\n",
    "from tkinter import messagebox #Basit iletişim kutuları oluşturur.\n",
    "from tkinter import ttk #Listeleri arayüze yansıtmak için kullanılır.\n",
    "from sklearn.feature_extraction.text import TfidfVectorizer #Metin verilerini sayısal özelliklere dönüştürmek için kullanılır.\n",
    "from sklearn.metrics.pairwise import sigmoid_kernel #Veri benzerliğini hesaplamak için kullanılır.\n",
    "from scipy import sparse #Seyrek matrislerle çalışmak için alt modül."
   ]
  },
  {
   "cell_type": "markdown",
   "metadata": {},
   "source": [
    "-> Gerekli kütüphaneler yüklenir. İşlevleri yarum satırlarında detaylandırılmıştır."
   ]
  },
  {
   "cell_type": "markdown",
   "metadata": {},
   "source": [
    "# Veri Setini Manipüle Etme"
   ]
  },
  {
   "cell_type": "code",
   "execution_count": 2,
   "metadata": {
    "metadata": {}
   },
   "outputs": [],
   "source": [
    "df = pd.read_csv(\"dataset.csv\")"
   ]
  },
  {
   "cell_type": "markdown",
   "metadata": {},
   "source": [
    "-> Kaggle platformunda bulunan \"Song lyrics dataset\" veri seti kullanılmıştır. Veri setine \"https://www.kaggle.com/datasets/mehedihasan9021/movie-script-dataset/data\" adresinden ulaşılabilir."
   ]
  },
  {
   "cell_type": "code",
   "execution_count": 3,
   "metadata": {
    "metadata": {}
   },
   "outputs": [
    {
     "data": {
      "text/html": [
       "<div>\n",
       "<style scoped>\n",
       "    .dataframe tbody tr th:only-of-type {\n",
       "        vertical-align: middle;\n",
       "    }\n",
       "\n",
       "    .dataframe tbody tr th {\n",
       "        vertical-align: top;\n",
       "    }\n",
       "\n",
       "    .dataframe thead th {\n",
       "        text-align: right;\n",
       "    }\n",
       "</style>\n",
       "<table border=\"1\" class=\"dataframe\">\n",
       "  <thead>\n",
       "    <tr style=\"text-align: right;\">\n",
       "      <th></th>\n",
       "      <th>genre</th>\n",
       "      <th>lyrics</th>\n",
       "      <th>SongInfo</th>\n",
       "    </tr>\n",
       "  </thead>\n",
       "  <tbody>\n",
       "    <tr>\n",
       "      <th>0</th>\n",
       "      <td>Christian</td>\n",
       "      <td>Who am I, that the Lord of all the earth Woul...</td>\n",
       "      <td>CASTING CROWNS - WHO AM I LYRICS</td>\n",
       "    </tr>\n",
       "    <tr>\n",
       "      <th>1</th>\n",
       "      <td>Christian</td>\n",
       "      <td>Glory Revealed  By His Wounds He was pierced ...</td>\n",
       "      <td>GLORY REVEALED - BY HIS WOUNDS LYRICS</td>\n",
       "    </tr>\n",
       "    <tr>\n",
       "      <th>2</th>\n",
       "      <td>Christian</td>\n",
       "      <td>Lord of heaven and earth Lord of all creation...</td>\n",
       "      <td>CAEDMON'S CALL - GOD OF WONDERS LYRICS</td>\n",
       "    </tr>\n",
       "    <tr>\n",
       "      <th>3</th>\n",
       "      <td>Christian</td>\n",
       "      <td>I can only imagine what it will be like When ...</td>\n",
       "      <td>MERCYME - I CAN ONLY IMAGINE LYRICS</td>\n",
       "    </tr>\n",
       "    <tr>\n",
       "      <th>4</th>\n",
       "      <td>Christian</td>\n",
       "      <td>I am not skilled to understand What God has w...</td>\n",
       "      <td>AARON SHUST - MY SAVIOR MY GOD LYRICS</td>\n",
       "    </tr>\n",
       "  </tbody>\n",
       "</table>\n",
       "</div>"
      ],
      "text/plain": [
       "       genre                                             lyrics  \\\n",
       "0  Christian   Who am I, that the Lord of all the earth Woul...   \n",
       "1  Christian   Glory Revealed  By His Wounds He was pierced ...   \n",
       "2  Christian   Lord of heaven and earth Lord of all creation...   \n",
       "3  Christian   I can only imagine what it will be like When ...   \n",
       "4  Christian   I am not skilled to understand What God has w...   \n",
       "\n",
       "                                 SongInfo  \n",
       "0        CASTING CROWNS - WHO AM I LYRICS  \n",
       "1   GLORY REVEALED - BY HIS WOUNDS LYRICS  \n",
       "2  CAEDMON'S CALL - GOD OF WONDERS LYRICS  \n",
       "3     MERCYME - I CAN ONLY IMAGINE LYRICS  \n",
       "4   AARON SHUST - MY SAVIOR MY GOD LYRICS  "
      ]
     },
     "execution_count": 3,
     "metadata": {},
     "output_type": "execute_result"
    }
   ],
   "source": [
    "df.head()"
   ]
  },
  {
   "cell_type": "markdown",
   "metadata": {},
   "source": [
    "-> Kullanılan veri seti işlenmemiş şarkı sözlerinden oluşmaktadır. Bu nedenle öncelikle şarkı sözleri kullanıabilir forma getirmiştir."
   ]
  },
  {
   "cell_type": "code",
   "execution_count": 4,
   "metadata": {
    "metadata": {}
   },
   "outputs": [],
   "source": [
    "def metin_temizle(text):\n",
    "    temiz_metin = re.sub(r\"[^\\w\\s]\", \"\", text) # Noktalama işaretlerini ve sayıları kaldırır.\n",
    "    temiz_metin = temiz_metin.lower() # Büyük harfleri küçük harfe dönüştürür.\n",
    "    return temiz_metin"
   ]
  },
  {
   "cell_type": "markdown",
   "metadata": {},
   "source": [
    "-> Şarkı sözlerini temizlemek için oluşturulmuş bir fonksiyondur."
   ]
  },
  {
   "cell_type": "code",
   "execution_count": 5,
   "metadata": {
    "metadata": {}
   },
   "outputs": [],
   "source": [
    "def dil_bul(text):\n",
    "    try:\n",
    "        dil_kodu = detect(text) # Cümledeki dilin kısa adını döndürür.\n",
    "        return dil_kodu\n",
    "    except:\n",
    "        return None # Dil belirlenemezse NaN döndürür."
   ]
  },
  {
   "cell_type": "markdown",
   "metadata": {},
   "source": [
    "-> Veri setinde, kullanılacak kütüphanelerle uyumlu olmayan dillere ait şarkı sözlerini tespit etmek için oluşturulmuş bir fonksiyon."
   ]
  },
  {
   "cell_type": "code",
   "execution_count": 6,
   "metadata": {
    "metadata": {}
   },
   "outputs": [],
   "source": [
    "def zor_kelime_bul(text):\n",
    "    try:\n",
    "        return textstat.difficult_words(text) # Textstat kütüphanesiyle bulunan zor kelime sayısını döndürür.\n",
    "    except:\n",
    "        return None # Belirlenemezse NaN döndürür."
   ]
  },
  {
   "cell_type": "markdown",
   "metadata": {},
   "source": [
    "-> Şarkı sözlerinin seviyesini belirlemek için kullanılacak formülde kullanılmak üzere zor kelime sayısını hesaplayan bir fonksiyon."
   ]
  },
  {
   "cell_type": "code",
   "execution_count": 7,
   "metadata": {
    "metadata": {}
   },
   "outputs": [],
   "source": [
    "def seviye_puan_hesapla(text):\n",
    "    try:\n",
    "        return textstat.flesch_kincaid_grade(text) # Textstat kütüphanesiyle hesaplanan \"Flesch Kincaid\" puanını döndürür.\n",
    "    except:\n",
    "        return None"
   ]
  },
  {
   "cell_type": "markdown",
   "metadata": {},
   "source": [
    "-> Şarkı sözlerinin seviyesini belirlemek için kullanılacak formülde kullanılmak üzere \"Flesch-Kincaid\" metoduyla değer hesaplayan bir fonksiyon. "
   ]
  },
  {
   "cell_type": "code",
   "execution_count": 8,
   "metadata": {
    "metadata": {}
   },
   "outputs": [],
   "source": [
    "def seviye_hesapla(sayi):\n",
    "    if sayi >= 0 and sayi <= 80:\n",
    "        return \"A1-A2\"\n",
    "    elif sayi > 80 and sayi <= 200:\n",
    "        return \"B1-B2\"\n",
    "    elif sayi > 200:\n",
    "        return \"C1-C2\"\n",
    "    else:\n",
    "        return None"
   ]
  },
  {
   "cell_type": "markdown",
   "metadata": {},
   "source": [
    "-> Oluşturulan formül sonucunda başka kaynaklarda kullanılan değerlerle seviye ataması yapan fonksiyon."
   ]
  },
  {
   "cell_type": "code",
   "execution_count": 9,
   "metadata": {
    "metadata": {}
   },
   "outputs": [],
   "source": [
    "df[\"Binary\"] = df[\"lyrics\"].apply(lambda x: 1 if \"We do not have the lyrics for\" in x else 0) # Şarkı sözü olmayan verilere 1 değeri atar.\n",
    "df.drop(df[df[\"Binary\"] == 1].index, inplace=True) # Bir değerine sahip olan verileri setten siler.\n",
    "df.drop(\"Binary\", axis=1, inplace=True) # Binary sütununu siler."
   ]
  },
  {
   "cell_type": "markdown",
   "metadata": {},
   "source": [
    "-> Şarkı sözleriyle işlem yapacağımız için şarkı sözü bulunmayan verileri siliyoruz."
   ]
  },
  {
   "cell_type": "code",
   "execution_count": 10,
   "metadata": {
    "metadata": {}
   },
   "outputs": [],
   "source": [
    "df[\"Temiz Metin\"] = df[\"lyrics\"].apply(metin_temizle) # Metin temizleme fonksiyonunu çalıştırır."
   ]
  },
  {
   "cell_type": "markdown",
   "metadata": {},
   "source": [
    "-> Oluşturulan \"Temiz Metin\" sütununa şarkı sözlerini temizlenmiş versiyonlarını ekler."
   ]
  },
  {
   "cell_type": "code",
   "execution_count": 11,
   "metadata": {
    "metadata": {}
   },
   "outputs": [],
   "source": [
    "df[\"Dil\"] = df[\"Temiz Metin\"].apply(dil_bul) # Dil bulma fonksiyonunu çalıştırır."
   ]
  },
  {
   "cell_type": "markdown",
   "metadata": {},
   "source": [
    "-> Kütüphanelere uyumlu olmayan dilleri tespit etmek için temizlenmiş metinlerin dillerini bulur."
   ]
  },
  {
   "cell_type": "code",
   "execution_count": 12,
   "metadata": {
    "metadata": {}
   },
   "outputs": [
    {
     "data": {
      "text/plain": [
       "array(['en', 'nl'], dtype=object)"
      ]
     },
     "execution_count": 12,
     "metadata": {},
     "output_type": "execute_result"
    }
   ],
   "source": [
    "df[\"Dil\"].unique() # Özgün her bir veriyi listeler."
   ]
  },
  {
   "cell_type": "markdown",
   "metadata": {},
   "source": [
    "-> Bulunan dilleri listeler. Kullanılan kütüphaneler listelenen dillerden sadece İngilizceye uygundur. Bu nedenle Flemenkçe şarkılar listede bulunmamalıdır."
   ]
  },
  {
   "cell_type": "code",
   "execution_count": 13,
   "metadata": {
    "metadata": {}
   },
   "outputs": [
    {
     "data": {
      "text/plain": [
       "array(['en'], dtype=object)"
      ]
     },
     "execution_count": 13,
     "metadata": {},
     "output_type": "execute_result"
    }
   ],
   "source": [
    "df.drop(df[df[\"Dil\"] == \"nl\"].index, inplace=True) # Flemenkçe verileri siler.\n",
    "df[\"Dil\"].unique()"
   ]
  },
  {
   "cell_type": "markdown",
   "metadata": {},
   "source": [
    "-> Kullanılamayacak diller silini ve kontrol edilir."
   ]
  },
  {
   "cell_type": "code",
   "execution_count": 14,
   "metadata": {
    "metadata": {}
   },
   "outputs": [
    {
     "data": {
      "text/html": [
       "<div>\n",
       "<style scoped>\n",
       "    .dataframe tbody tr th:only-of-type {\n",
       "        vertical-align: middle;\n",
       "    }\n",
       "\n",
       "    .dataframe tbody tr th {\n",
       "        vertical-align: top;\n",
       "    }\n",
       "\n",
       "    .dataframe thead th {\n",
       "        text-align: right;\n",
       "    }\n",
       "</style>\n",
       "<table border=\"1\" class=\"dataframe\">\n",
       "  <thead>\n",
       "    <tr style=\"text-align: right;\">\n",
       "      <th></th>\n",
       "      <th>genre</th>\n",
       "      <th>lyrics</th>\n",
       "      <th>SongInfo</th>\n",
       "      <th>Temiz Metin</th>\n",
       "      <th>Dil</th>\n",
       "      <th>Zor Kelime</th>\n",
       "    </tr>\n",
       "  </thead>\n",
       "  <tbody>\n",
       "    <tr>\n",
       "      <th>0</th>\n",
       "      <td>Christian</td>\n",
       "      <td>Who am I, that the Lord of all the earth Woul...</td>\n",
       "      <td>CASTING CROWNS - WHO AM I LYRICS</td>\n",
       "      <td>who am i that the lord of all the earth would...</td>\n",
       "      <td>en</td>\n",
       "      <td>5</td>\n",
       "    </tr>\n",
       "    <tr>\n",
       "      <th>1</th>\n",
       "      <td>Christian</td>\n",
       "      <td>Glory Revealed  By His Wounds He was pierced ...</td>\n",
       "      <td>GLORY REVEALED - BY HIS WOUNDS LYRICS</td>\n",
       "      <td>glory revealed  by his wounds he was pierced ...</td>\n",
       "      <td>en</td>\n",
       "      <td>5</td>\n",
       "    </tr>\n",
       "    <tr>\n",
       "      <th>2</th>\n",
       "      <td>Christian</td>\n",
       "      <td>Lord of heaven and earth Lord of all creation...</td>\n",
       "      <td>CAEDMON'S CALL - GOD OF WONDERS LYRICS</td>\n",
       "      <td>lord of heaven and earth lord of all creation...</td>\n",
       "      <td>en</td>\n",
       "      <td>11</td>\n",
       "    </tr>\n",
       "    <tr>\n",
       "      <th>3</th>\n",
       "      <td>Christian</td>\n",
       "      <td>I can only imagine what it will be like When ...</td>\n",
       "      <td>MERCYME - I CAN ONLY IMAGINE LYRICS</td>\n",
       "      <td>i can only imagine what it will be like when ...</td>\n",
       "      <td>en</td>\n",
       "      <td>8</td>\n",
       "    </tr>\n",
       "    <tr>\n",
       "      <th>4</th>\n",
       "      <td>Christian</td>\n",
       "      <td>I am not skilled to understand What God has w...</td>\n",
       "      <td>AARON SHUST - MY SAVIOR MY GOD LYRICS</td>\n",
       "      <td>i am not skilled to understand what god has w...</td>\n",
       "      <td>en</td>\n",
       "      <td>4</td>\n",
       "    </tr>\n",
       "  </tbody>\n",
       "</table>\n",
       "</div>"
      ],
      "text/plain": [
       "       genre                                             lyrics  \\\n",
       "0  Christian   Who am I, that the Lord of all the earth Woul...   \n",
       "1  Christian   Glory Revealed  By His Wounds He was pierced ...   \n",
       "2  Christian   Lord of heaven and earth Lord of all creation...   \n",
       "3  Christian   I can only imagine what it will be like When ...   \n",
       "4  Christian   I am not skilled to understand What God has w...   \n",
       "\n",
       "                                 SongInfo  \\\n",
       "0        CASTING CROWNS - WHO AM I LYRICS   \n",
       "1   GLORY REVEALED - BY HIS WOUNDS LYRICS   \n",
       "2  CAEDMON'S CALL - GOD OF WONDERS LYRICS   \n",
       "3     MERCYME - I CAN ONLY IMAGINE LYRICS   \n",
       "4   AARON SHUST - MY SAVIOR MY GOD LYRICS   \n",
       "\n",
       "                                         Temiz Metin Dil  Zor Kelime  \n",
       "0   who am i that the lord of all the earth would...  en           5  \n",
       "1   glory revealed  by his wounds he was pierced ...  en           5  \n",
       "2   lord of heaven and earth lord of all creation...  en          11  \n",
       "3   i can only imagine what it will be like when ...  en           8  \n",
       "4   i am not skilled to understand what god has w...  en           4  "
      ]
     },
     "execution_count": 14,
     "metadata": {},
     "output_type": "execute_result"
    }
   ],
   "source": [
    "df[\"Zor Kelime\"] = df[\"Temiz Metin\"].apply(zor_kelime_bul) # Zor kelime sayısını hesaplatır.\n",
    "df.head()"
   ]
  },
  {
   "cell_type": "code",
   "execution_count": 15,
   "metadata": {
    "metadata": {}
   },
   "outputs": [
    {
     "data": {
      "text/html": [
       "<div>\n",
       "<style scoped>\n",
       "    .dataframe tbody tr th:only-of-type {\n",
       "        vertical-align: middle;\n",
       "    }\n",
       "\n",
       "    .dataframe tbody tr th {\n",
       "        vertical-align: top;\n",
       "    }\n",
       "\n",
       "    .dataframe thead th {\n",
       "        text-align: right;\n",
       "    }\n",
       "</style>\n",
       "<table border=\"1\" class=\"dataframe\">\n",
       "  <thead>\n",
       "    <tr style=\"text-align: right;\">\n",
       "      <th></th>\n",
       "      <th>genre</th>\n",
       "      <th>lyrics</th>\n",
       "      <th>SongInfo</th>\n",
       "      <th>Temiz Metin</th>\n",
       "      <th>Dil</th>\n",
       "      <th>Zor Kelime</th>\n",
       "      <th>Seviye Puanı</th>\n",
       "    </tr>\n",
       "  </thead>\n",
       "  <tbody>\n",
       "    <tr>\n",
       "      <th>0</th>\n",
       "      <td>Christian</td>\n",
       "      <td>Who am I, that the Lord of all the earth Woul...</td>\n",
       "      <td>CASTING CROWNS - WHO AM I LYRICS</td>\n",
       "      <td>who am i that the lord of all the earth would...</td>\n",
       "      <td>en</td>\n",
       "      <td>5</td>\n",
       "      <td>121.4</td>\n",
       "    </tr>\n",
       "    <tr>\n",
       "      <th>1</th>\n",
       "      <td>Christian</td>\n",
       "      <td>Glory Revealed  By His Wounds He was pierced ...</td>\n",
       "      <td>GLORY REVEALED - BY HIS WOUNDS LYRICS</td>\n",
       "      <td>glory revealed  by his wounds he was pierced ...</td>\n",
       "      <td>en</td>\n",
       "      <td>5</td>\n",
       "      <td>77.3</td>\n",
       "    </tr>\n",
       "    <tr>\n",
       "      <th>2</th>\n",
       "      <td>Christian</td>\n",
       "      <td>Lord of heaven and earth Lord of all creation...</td>\n",
       "      <td>CAEDMON'S CALL - GOD OF WONDERS LYRICS</td>\n",
       "      <td>lord of heaven and earth lord of all creation...</td>\n",
       "      <td>en</td>\n",
       "      <td>11</td>\n",
       "      <td>84.4</td>\n",
       "    </tr>\n",
       "    <tr>\n",
       "      <th>3</th>\n",
       "      <td>Christian</td>\n",
       "      <td>I can only imagine what it will be like When ...</td>\n",
       "      <td>MERCYME - I CAN ONLY IMAGINE LYRICS</td>\n",
       "      <td>i can only imagine what it will be like when ...</td>\n",
       "      <td>en</td>\n",
       "      <td>8</td>\n",
       "      <td>107.0</td>\n",
       "    </tr>\n",
       "    <tr>\n",
       "      <th>4</th>\n",
       "      <td>Christian</td>\n",
       "      <td>I am not skilled to understand What God has w...</td>\n",
       "      <td>AARON SHUST - MY SAVIOR MY GOD LYRICS</td>\n",
       "      <td>i am not skilled to understand what god has w...</td>\n",
       "      <td>en</td>\n",
       "      <td>4</td>\n",
       "      <td>140.1</td>\n",
       "    </tr>\n",
       "  </tbody>\n",
       "</table>\n",
       "</div>"
      ],
      "text/plain": [
       "       genre                                             lyrics  \\\n",
       "0  Christian   Who am I, that the Lord of all the earth Woul...   \n",
       "1  Christian   Glory Revealed  By His Wounds He was pierced ...   \n",
       "2  Christian   Lord of heaven and earth Lord of all creation...   \n",
       "3  Christian   I can only imagine what it will be like When ...   \n",
       "4  Christian   I am not skilled to understand What God has w...   \n",
       "\n",
       "                                 SongInfo  \\\n",
       "0        CASTING CROWNS - WHO AM I LYRICS   \n",
       "1   GLORY REVEALED - BY HIS WOUNDS LYRICS   \n",
       "2  CAEDMON'S CALL - GOD OF WONDERS LYRICS   \n",
       "3     MERCYME - I CAN ONLY IMAGINE LYRICS   \n",
       "4   AARON SHUST - MY SAVIOR MY GOD LYRICS   \n",
       "\n",
       "                                         Temiz Metin Dil  Zor Kelime  \\\n",
       "0   who am i that the lord of all the earth would...  en           5   \n",
       "1   glory revealed  by his wounds he was pierced ...  en           5   \n",
       "2   lord of heaven and earth lord of all creation...  en          11   \n",
       "3   i can only imagine what it will be like when ...  en           8   \n",
       "4   i am not skilled to understand what god has w...  en           4   \n",
       "\n",
       "   Seviye Puanı  \n",
       "0         121.4  \n",
       "1          77.3  \n",
       "2          84.4  \n",
       "3         107.0  \n",
       "4         140.1  "
      ]
     },
     "execution_count": 15,
     "metadata": {},
     "output_type": "execute_result"
    }
   ],
   "source": [
    "df[\"Seviye Puanı\"] = df[\"Temiz Metin\"].apply(seviye_puan_hesapla) # Flesch Kincaid methonuna göre puan hesaplatır.\n",
    "df.head()"
   ]
  },
  {
   "cell_type": "code",
   "execution_count": 16,
   "metadata": {
    "metadata": {}
   },
   "outputs": [
    {
     "data": {
      "text/html": [
       "<div>\n",
       "<style scoped>\n",
       "    .dataframe tbody tr th:only-of-type {\n",
       "        vertical-align: middle;\n",
       "    }\n",
       "\n",
       "    .dataframe tbody tr th {\n",
       "        vertical-align: top;\n",
       "    }\n",
       "\n",
       "    .dataframe thead th {\n",
       "        text-align: right;\n",
       "    }\n",
       "</style>\n",
       "<table border=\"1\" class=\"dataframe\">\n",
       "  <thead>\n",
       "    <tr style=\"text-align: right;\">\n",
       "      <th></th>\n",
       "      <th>genre</th>\n",
       "      <th>lyrics</th>\n",
       "      <th>SongInfo</th>\n",
       "      <th>Temiz Metin</th>\n",
       "      <th>Dil</th>\n",
       "      <th>Zor Kelime</th>\n",
       "      <th>Seviye Puanı</th>\n",
       "      <th>Çarpım</th>\n",
       "    </tr>\n",
       "  </thead>\n",
       "  <tbody>\n",
       "    <tr>\n",
       "      <th>0</th>\n",
       "      <td>Christian</td>\n",
       "      <td>Who am I, that the Lord of all the earth Woul...</td>\n",
       "      <td>CASTING CROWNS - WHO AM I LYRICS</td>\n",
       "      <td>who am i that the lord of all the earth would...</td>\n",
       "      <td>en</td>\n",
       "      <td>5</td>\n",
       "      <td>121.4</td>\n",
       "      <td>60</td>\n",
       "    </tr>\n",
       "    <tr>\n",
       "      <th>1</th>\n",
       "      <td>Christian</td>\n",
       "      <td>Glory Revealed  By His Wounds He was pierced ...</td>\n",
       "      <td>GLORY REVEALED - BY HIS WOUNDS LYRICS</td>\n",
       "      <td>glory revealed  by his wounds he was pierced ...</td>\n",
       "      <td>en</td>\n",
       "      <td>5</td>\n",
       "      <td>77.3</td>\n",
       "      <td>38</td>\n",
       "    </tr>\n",
       "    <tr>\n",
       "      <th>2</th>\n",
       "      <td>Christian</td>\n",
       "      <td>Lord of heaven and earth Lord of all creation...</td>\n",
       "      <td>CAEDMON'S CALL - GOD OF WONDERS LYRICS</td>\n",
       "      <td>lord of heaven and earth lord of all creation...</td>\n",
       "      <td>en</td>\n",
       "      <td>11</td>\n",
       "      <td>84.4</td>\n",
       "      <td>92</td>\n",
       "    </tr>\n",
       "    <tr>\n",
       "      <th>3</th>\n",
       "      <td>Christian</td>\n",
       "      <td>I can only imagine what it will be like When ...</td>\n",
       "      <td>MERCYME - I CAN ONLY IMAGINE LYRICS</td>\n",
       "      <td>i can only imagine what it will be like when ...</td>\n",
       "      <td>en</td>\n",
       "      <td>8</td>\n",
       "      <td>107.0</td>\n",
       "      <td>85</td>\n",
       "    </tr>\n",
       "    <tr>\n",
       "      <th>4</th>\n",
       "      <td>Christian</td>\n",
       "      <td>I am not skilled to understand What God has w...</td>\n",
       "      <td>AARON SHUST - MY SAVIOR MY GOD LYRICS</td>\n",
       "      <td>i am not skilled to understand what god has w...</td>\n",
       "      <td>en</td>\n",
       "      <td>4</td>\n",
       "      <td>140.1</td>\n",
       "      <td>56</td>\n",
       "    </tr>\n",
       "  </tbody>\n",
       "</table>\n",
       "</div>"
      ],
      "text/plain": [
       "       genre                                             lyrics  \\\n",
       "0  Christian   Who am I, that the Lord of all the earth Woul...   \n",
       "1  Christian   Glory Revealed  By His Wounds He was pierced ...   \n",
       "2  Christian   Lord of heaven and earth Lord of all creation...   \n",
       "3  Christian   I can only imagine what it will be like When ...   \n",
       "4  Christian   I am not skilled to understand What God has w...   \n",
       "\n",
       "                                 SongInfo  \\\n",
       "0        CASTING CROWNS - WHO AM I LYRICS   \n",
       "1   GLORY REVEALED - BY HIS WOUNDS LYRICS   \n",
       "2  CAEDMON'S CALL - GOD OF WONDERS LYRICS   \n",
       "3     MERCYME - I CAN ONLY IMAGINE LYRICS   \n",
       "4   AARON SHUST - MY SAVIOR MY GOD LYRICS   \n",
       "\n",
       "                                         Temiz Metin Dil  Zor Kelime  \\\n",
       "0   who am i that the lord of all the earth would...  en           5   \n",
       "1   glory revealed  by his wounds he was pierced ...  en           5   \n",
       "2   lord of heaven and earth lord of all creation...  en          11   \n",
       "3   i can only imagine what it will be like when ...  en           8   \n",
       "4   i am not skilled to understand what god has w...  en           4   \n",
       "\n",
       "   Seviye Puanı  Çarpım  \n",
       "0         121.4      60  \n",
       "1          77.3      38  \n",
       "2          84.4      92  \n",
       "3         107.0      85  \n",
       "4         140.1      56  "
      ]
     },
     "execution_count": 16,
     "metadata": {},
     "output_type": "execute_result"
    }
   ],
   "source": [
    "df[\"Çarpım\"] = df[\"Zor Kelime\"] * df[\"Seviye Puanı\"] / 10 # Dil düzeyi hesaplamak için farklı kaynaklardan yararlanılarak oluşturulmuş bir formüldür.\n",
    "df[\"Çarpım\"] = df[\"Çarpım\"].astype(int) # Değerlerin tam sayı olarak işlenmesini sağlar. \n",
    "df.head()"
   ]
  },
  {
   "cell_type": "code",
   "execution_count": 17,
   "metadata": {
    "metadata": {}
   },
   "outputs": [
    {
     "data": {
      "text/plain": [
       "Kategori\n",
       "A1-A2    269\n",
       "B1-B2    151\n",
       "C1-C2    116\n",
       "dtype: int64"
      ]
     },
     "execution_count": 17,
     "metadata": {},
     "output_type": "execute_result"
    }
   ],
   "source": [
    "df[\"Kategori\"] = df[\"Çarpım\"].apply(seviye_hesapla) # Seviye hesaplama fonksiyonunu çalıştırır.\n",
    "df.groupby(\"Kategori\").size() # Kategoriye göre gruplanmış veri sayısını gösterir."
   ]
  },
  {
   "cell_type": "markdown",
   "metadata": {},
   "source": [
    "-> Seviyeleri hesaplar ve seviyeleri heaplanmış şarkıların sayısını görüntüler."
   ]
  },
  {
   "cell_type": "code",
   "execution_count": 18,
   "metadata": {
    "metadata": {}
   },
   "outputs": [
    {
     "data": {
      "text/html": [
       "<div>\n",
       "<style scoped>\n",
       "    .dataframe tbody tr th:only-of-type {\n",
       "        vertical-align: middle;\n",
       "    }\n",
       "\n",
       "    .dataframe tbody tr th {\n",
       "        vertical-align: top;\n",
       "    }\n",
       "\n",
       "    .dataframe thead th {\n",
       "        text-align: right;\n",
       "    }\n",
       "</style>\n",
       "<table border=\"1\" class=\"dataframe\">\n",
       "  <thead>\n",
       "    <tr style=\"text-align: right;\">\n",
       "      <th></th>\n",
       "      <th>genre</th>\n",
       "      <th>Temiz Metin</th>\n",
       "      <th>Kategori</th>\n",
       "      <th>Sanatçı</th>\n",
       "      <th>Şarkı</th>\n",
       "    </tr>\n",
       "  </thead>\n",
       "  <tbody>\n",
       "    <tr>\n",
       "      <th>0</th>\n",
       "      <td>Christian</td>\n",
       "      <td>who am i that the lord of all the earth would...</td>\n",
       "      <td>A1-A2</td>\n",
       "      <td>CASTING CROWNS</td>\n",
       "      <td>WHO AM I</td>\n",
       "    </tr>\n",
       "    <tr>\n",
       "      <th>1</th>\n",
       "      <td>Christian</td>\n",
       "      <td>glory revealed  by his wounds he was pierced ...</td>\n",
       "      <td>A1-A2</td>\n",
       "      <td>GLORY REVEALED</td>\n",
       "      <td>BY HIS WOUNDS</td>\n",
       "    </tr>\n",
       "    <tr>\n",
       "      <th>2</th>\n",
       "      <td>Christian</td>\n",
       "      <td>lord of heaven and earth lord of all creation...</td>\n",
       "      <td>B1-B2</td>\n",
       "      <td>CAEDMON'S CALL</td>\n",
       "      <td>GOD OF WONDERS</td>\n",
       "    </tr>\n",
       "    <tr>\n",
       "      <th>3</th>\n",
       "      <td>Christian</td>\n",
       "      <td>i can only imagine what it will be like when ...</td>\n",
       "      <td>B1-B2</td>\n",
       "      <td>MERCYME</td>\n",
       "      <td>I CAN ONLY IMAGINE</td>\n",
       "    </tr>\n",
       "    <tr>\n",
       "      <th>4</th>\n",
       "      <td>Christian</td>\n",
       "      <td>i am not skilled to understand what god has w...</td>\n",
       "      <td>A1-A2</td>\n",
       "      <td>AARON SHUST</td>\n",
       "      <td>MY SAVIOR MY GOD</td>\n",
       "    </tr>\n",
       "  </tbody>\n",
       "</table>\n",
       "</div>"
      ],
      "text/plain": [
       "       genre                                        Temiz Metin Kategori  \\\n",
       "0  Christian   who am i that the lord of all the earth would...    A1-A2   \n",
       "1  Christian   glory revealed  by his wounds he was pierced ...    A1-A2   \n",
       "2  Christian   lord of heaven and earth lord of all creation...    B1-B2   \n",
       "3  Christian   i can only imagine what it will be like when ...    B1-B2   \n",
       "4  Christian   i am not skilled to understand what god has w...    A1-A2   \n",
       "\n",
       "          Sanatçı               Şarkı  \n",
       "0  CASTING CROWNS            WHO AM I  \n",
       "1  GLORY REVEALED       BY HIS WOUNDS  \n",
       "2  CAEDMON'S CALL      GOD OF WONDERS  \n",
       "3         MERCYME  I CAN ONLY IMAGINE  \n",
       "4     AARON SHUST    MY SAVIOR MY GOD  "
      ]
     },
     "execution_count": 18,
     "metadata": {},
     "output_type": "execute_result"
    }
   ],
   "source": [
    "df[[\"Sanatçı\", \"Şarkı\"]] = df[\"SongInfo\"].str.split(\" - \", n=1, expand=True)\n",
    "df = df.drop([\"lyrics\", \"SongInfo\",\"Dil\",\"Seviye Puanı\",\"Çarpım\",\"Zor Kelime\"], axis=1)\n",
    "df[\"Şarkı\"] = df[\"Şarkı\"].str.replace(\" LYRICS\", \"\")\n",
    "df = df.reset_index(drop=True)\n",
    "df.head()"
   ]
  },
  {
   "cell_type": "markdown",
   "metadata": {},
   "source": [
    "-> Kullanılacak veri setinin son halini görüntüler. İşlenmiş veriler tablodan çıkartılır."
   ]
  },
  {
   "cell_type": "markdown",
   "metadata": {},
   "source": [
    "-------------------------------------------------------------------------------------------------------------------------------------------------"
   ]
  },
  {
   "cell_type": "markdown",
   "metadata": {},
   "source": [
    "# Kullanıcı Girişi ve Seviye Bilgisi Toplama"
   ]
  },
  {
   "cell_type": "code",
   "execution_count": 19,
   "metadata": {
    "metadata": {}
   },
   "outputs": [
    {
     "data": {
      "text/html": [
       "<div>\n",
       "<style scoped>\n",
       "    .dataframe tbody tr th:only-of-type {\n",
       "        vertical-align: middle;\n",
       "    }\n",
       "\n",
       "    .dataframe tbody tr th {\n",
       "        vertical-align: top;\n",
       "    }\n",
       "\n",
       "    .dataframe thead th {\n",
       "        text-align: right;\n",
       "    }\n",
       "</style>\n",
       "<table border=\"1\" class=\"dataframe\">\n",
       "  <thead>\n",
       "    <tr style=\"text-align: right;\">\n",
       "      <th></th>\n",
       "      <th>Kullanıcı Adı</th>\n",
       "      <th>Şifre</th>\n",
       "      <th>Kategori</th>\n",
       "    </tr>\n",
       "  </thead>\n",
       "  <tbody>\n",
       "    <tr>\n",
       "      <th>0</th>\n",
       "      <td>Ayşe</td>\n",
       "      <td>55652693</td>\n",
       "      <td>NaN</td>\n",
       "    </tr>\n",
       "    <tr>\n",
       "      <th>1</th>\n",
       "      <td>Zeynep</td>\n",
       "      <td>20431998</td>\n",
       "      <td>NaN</td>\n",
       "    </tr>\n",
       "  </tbody>\n",
       "</table>\n",
       "</div>"
      ],
      "text/plain": [
       "  Kullanıcı Adı     Şifre  Kategori\n",
       "0          Ayşe  55652693       NaN\n",
       "1        Zeynep  20431998       NaN"
      ]
     },
     "execution_count": 19,
     "metadata": {},
     "output_type": "execute_result"
    }
   ],
   "source": [
    "user_df = pd.read_excel(\"kullanıcılar.xlsx\", dtype={\"Şifre\": str})\n",
    "user_df[\"Kategori\"] = float(\"NaN\")\n",
    "user_df"
   ]
  },
  {
   "cell_type": "markdown",
   "metadata": {},
   "source": [
    "-> Kullanıcılar giriş verilerinin bulunduğu bir veri setidir."
   ]
  },
  {
   "cell_type": "code",
   "execution_count": 20,
   "metadata": {
    "metadata": {}
   },
   "outputs": [],
   "source": [
    "kullanici=\"\"\n",
    "\n",
    "def login(): # Giriş fonksiyonu\n",
    "\n",
    "    global username\n",
    "    username = entry_username.get() # Kullanıcının girdiği kullanıcı adını alır.\n",
    "    password = entry_password.get() # Kullanıcının girdiği şifreyi alır.\n",
    "\n",
    "    # Excel dosyasını okuma\n",
    "    try:\n",
    "        user_df = pd.read_excel(\"kullanıcılar.xlsx\", dtype={\"Şifre\": str})\n",
    "        user_data = user_df.set_index(\"Kullanıcı Adı\")[[\"Şifre\"]].T.to_dict(\"list\")\n",
    "    except Exception as e:\n",
    "        messagebox.showerror(\"Hata\", \"Excel dosyası okunurken bir hata oluştu.\")\n",
    "        return\n",
    "\n",
    "    # Kullanıcı adı ve şifreyi kontrol etme\n",
    "    if username in user_data:\n",
    "        if user_data[username][0] == password:\n",
    "            messagebox.showinfo(\"Başarılı\", \"Giriş Başarılı!\")\n",
    "            gizli_frame.grid_forget()  # Giriş bileşenlerini gizle\n",
    "            seviye_sor(username)\n",
    "            \n",
    "        else:\n",
    "            messagebox.showerror(\"Hata\", \"Geçersiz Şifre!\")\n",
    "    else:\n",
    "        messagebox.showerror(\"Hata\", \"Geçersiz Kullanıcı Adı!\")"
   ]
  },
  {
   "cell_type": "markdown",
   "metadata": {},
   "source": [
    "-> Kullanıcı girşinin yapılması için tanımlanmış bir giriş fonksiyonudur."
   ]
  },
  {
   "cell_type": "code",
   "execution_count": 21,
   "metadata": {
    "metadata": {}
   },
   "outputs": [],
   "source": [
    "def seviye_sor(username):\n",
    "    def on_button_click(seviye):\n",
    "        try:\n",
    "            user_df.loc[user_df[\"Kullanıcı Adı\"] == username, \"Kategori\"] = None # Uygun kategori sekmesini boşaltır.\n",
    "            user_df.loc[user_df[\"Kullanıcı Adı\"] == username, \"Kategori\"] = seviye # Uygun kategori sekmesine kullanıcıdan alınan seviye bilgisini yazdırır.\n",
    "            user_df.to_excel(\"kullanıcılar.xlsx\", index=False) # Kayıt eder.\n",
    "            messagebox.showinfo(\"Başarılı\", f\"'{seviye}' kullanıcı dosyasına eklendi!\") # Kullanıcıya mesaj kutusuyla geri bildirim verir.\n",
    "            kullanici= username # Kullanıcı değişkenini girilen kullanıcı adına eşitler.\n",
    "            root.destroy()\n",
    "            \n",
    "        except Exception as e:\n",
    "            messagebox.showerror(\"Hata\", f\"Bir hata oluştu: {str(e)}\")\n",
    "\n",
    "    seviye_frame.grid(row=3, column=0, columnspan=3, padx=5, pady=5)  # Seviye seçim frame\"ini göster\n",
    "\n",
    "    button_a = tk.Button(seviye_frame, text=\"Başlangıç\", command=lambda: on_button_click(\"A1-A2\")) # Başlangıç seviyesi butonu\n",
    "    button_a.grid(row=0, column=0, padx=5, pady=5)\n",
    "    button_b = tk.Button(seviye_frame, text=\"Orta\", command=lambda: on_button_click(\"B1-B2\")) # Orta seviye butonu\n",
    "    button_b.grid(row=0, column=1, padx=5, pady=5)\n",
    "    button_c = tk.Button(seviye_frame, text=\"Gelişmiş\", command=lambda: on_button_click(\"C1-C2\")) # Gelişmiş seviye butonu\n",
    "    button_c.grid(row=0, column=2, padx=5, pady=5)"
   ]
  },
  {
   "cell_type": "markdown",
   "metadata": {},
   "source": [
    "-> Kullanıcıya sahip olduğu \"İngilizce Yeterlilik Seviyesi\"ni sorar ve aldığı cevabı kullanıcının dosyasına ekler."
   ]
  },
  {
   "cell_type": "code",
   "execution_count": 22,
   "metadata": {
    "metadata": {}
   },
   "outputs": [],
   "source": [
    "# Tkinter penceresini oluşturma\n",
    "root = tk.Tk()\n",
    "root.title(\"Kullanıcı Girişi\")\n",
    "\n",
    "# Giriş bileşenlerini içeren frame\n",
    "gizli_frame = tk.Frame(root)\n",
    "gizli_frame.grid(row=0, column=0)\n",
    "\n",
    "# Kullanıcı adı ve şifre girişi için etiketler\n",
    "label_username = tk.Label(gizli_frame, text=\"Kullanıcı Adı:\")\n",
    "label_username.grid(row=0, column=0, padx=5, pady=5)\n",
    "label_password = tk.Label(gizli_frame, text=\"Şifre:\")\n",
    "label_password.grid(row=1, column=0, padx=5, pady=5)\n",
    "\n",
    "# Kullanıcı adı ve şifre girişi için metin kutuları\n",
    "entry_username = tk.Entry(gizli_frame)\n",
    "entry_username.grid(row=0, column=1, padx=5, pady=5)\n",
    "entry_password = tk.Entry(gizli_frame, show=\"*\")\n",
    "entry_password.grid(row=1, column=1, padx=5, pady=5)\n",
    "\n",
    "username = entry_username.get()\n",
    "password = entry_password.get()\n",
    "\n",
    "# Giriş butonu\n",
    "button_login = tk.Button(gizli_frame, text=\"Giriş\", command=login)\n",
    "button_login.grid(row=2, column=0, columnspan=2, padx=5, pady=5)\n",
    "\n",
    "# Seviye seçimi bileşenlerini içeren frame\n",
    "seviye_frame = tk.Frame(root)"
   ]
  },
  {
   "cell_type": "markdown",
   "metadata": {},
   "source": [
    "-> Kullanıcı arayüzünün ayarlandığı kısım."
   ]
  },
  {
   "cell_type": "code",
   "execution_count": 23,
   "metadata": {
    "metadata": {}
   },
   "outputs": [
    {
     "name": "stderr",
     "output_type": "stream",
     "text": [
      "C:\\Users\\arifyılmaz\\AppData\\Local\\Temp\\ipykernel_12380\\1203568304.py:5: FutureWarning: Setting an item of incompatible dtype is deprecated and will raise an error in a future version of pandas. Value 'B1-B2' has dtype incompatible with float64, please explicitly cast to a compatible dtype first.\n",
      "  user_df.loc[user_df[\"Kullanıcı Adı\"] == username, \"Kategori\"] = seviye # Uygun kategori sekmesine kullanıcıdan alınan seviye bilgisini yazdırır.\n"
     ]
    }
   ],
   "source": [
    "# Pencereyi görüntüleme\n",
    "root.mainloop()"
   ]
  },
  {
   "cell_type": "code",
   "execution_count": 24,
   "metadata": {
    "metadata": {}
   },
   "outputs": [
    {
     "data": {
      "text/html": [
       "<div>\n",
       "<style scoped>\n",
       "    .dataframe tbody tr th:only-of-type {\n",
       "        vertical-align: middle;\n",
       "    }\n",
       "\n",
       "    .dataframe tbody tr th {\n",
       "        vertical-align: top;\n",
       "    }\n",
       "\n",
       "    .dataframe thead th {\n",
       "        text-align: right;\n",
       "    }\n",
       "</style>\n",
       "<table border=\"1\" class=\"dataframe\">\n",
       "  <thead>\n",
       "    <tr style=\"text-align: right;\">\n",
       "      <th></th>\n",
       "      <th>Kullanıcı Adı</th>\n",
       "      <th>Şifre</th>\n",
       "      <th>Kategori</th>\n",
       "    </tr>\n",
       "  </thead>\n",
       "  <tbody>\n",
       "    <tr>\n",
       "      <th>0</th>\n",
       "      <td>Ayşe</td>\n",
       "      <td>55652693</td>\n",
       "      <td>B1-B2</td>\n",
       "    </tr>\n",
       "    <tr>\n",
       "      <th>1</th>\n",
       "      <td>Zeynep</td>\n",
       "      <td>20431998</td>\n",
       "      <td>NaN</td>\n",
       "    </tr>\n",
       "  </tbody>\n",
       "</table>\n",
       "</div>"
      ],
      "text/plain": [
       "  Kullanıcı Adı     Şifre Kategori\n",
       "0          Ayşe  55652693    B1-B2\n",
       "1        Zeynep  20431998      NaN"
      ]
     },
     "execution_count": 24,
     "metadata": {},
     "output_type": "execute_result"
    }
   ],
   "source": [
    "user_df"
   ]
  },
  {
   "cell_type": "markdown",
   "metadata": {},
   "source": [
    "-> Veri girişinden sonra veri setinin son görünümüdür."
   ]
  },
  {
   "cell_type": "markdown",
   "metadata": {},
   "source": [
    "-------------------------------------------------------------------------------------------------------------------------------------------------"
   ]
  },
  {
   "cell_type": "markdown",
   "metadata": {},
   "source": [
    "# Öneri Sistemi"
   ]
  },
  {
   "cell_type": "code",
   "execution_count": 25,
   "metadata": {},
   "outputs": [
    {
     "data": {
      "text/html": [
       "<div>\n",
       "<style scoped>\n",
       "    .dataframe tbody tr th:only-of-type {\n",
       "        vertical-align: middle;\n",
       "    }\n",
       "\n",
       "    .dataframe tbody tr th {\n",
       "        vertical-align: top;\n",
       "    }\n",
       "\n",
       "    .dataframe thead th {\n",
       "        text-align: right;\n",
       "    }\n",
       "</style>\n",
       "<table border=\"1\" class=\"dataframe\">\n",
       "  <thead>\n",
       "    <tr style=\"text-align: right;\">\n",
       "      <th></th>\n",
       "      <th>Şarkı</th>\n",
       "      <th>Dinleme Süresi</th>\n",
       "    </tr>\n",
       "  </thead>\n",
       "  <tbody>\n",
       "    <tr>\n",
       "      <th>96</th>\n",
       "      <td>335</td>\n",
       "      <td>1444</td>\n",
       "    </tr>\n",
       "    <tr>\n",
       "      <th>132</th>\n",
       "      <td>449</td>\n",
       "      <td>1057</td>\n",
       "    </tr>\n",
       "    <tr>\n",
       "      <th>35</th>\n",
       "      <td>109</td>\n",
       "      <td>901</td>\n",
       "    </tr>\n",
       "    <tr>\n",
       "      <th>154</th>\n",
       "      <td>509</td>\n",
       "      <td>901</td>\n",
       "    </tr>\n",
       "    <tr>\n",
       "      <th>3</th>\n",
       "      <td>10</td>\n",
       "      <td>898</td>\n",
       "    </tr>\n",
       "  </tbody>\n",
       "</table>\n",
       "</div>"
      ],
      "text/plain": [
       "     Şarkı  Dinleme Süresi\n",
       "96     335            1444\n",
       "132    449            1057\n",
       "35     109             901\n",
       "154    509             901\n",
       "3       10             898"
      ]
     },
     "execution_count": 25,
     "metadata": {},
     "output_type": "execute_result"
    }
   ],
   "source": [
    "gecmis = pd.read_excel(\"dinleme_gecmisi.xlsx\", sheet_name=username) # Kullanıcıya ait dinleme geçmişini değişkene atar.\n",
    "gecmis = gecmis.groupby(\"Şarkı\")[\"Dinleme Süresi\"].sum().reset_index() # Birden fazla kez dinlenmiş şarkıların dinlenme sürelerini toplar.\n",
    "gecmis = gecmis.sort_values(by=\"Dinleme Süresi\", ascending=False) # En çok dinlene şarkıya göre sıralar.\n",
    "gecmis.head()"
   ]
  },
  {
   "cell_type": "markdown",
   "metadata": {},
   "source": [
    "-> Kullanıcya öneri sağlarken en çok dinlediği şarkının verisinden yararlanacağız."
   ]
  },
  {
   "cell_type": "code",
   "execution_count": 26,
   "metadata": {},
   "outputs": [
    {
     "name": "stdout",
     "output_type": "stream",
     "text": [
      "WONDERWALL\n"
     ]
    }
   ],
   "source": [
    "ingilizce_seviyesi = user_df.loc[user_df[\"Kullanıcı Adı\"] == username, \"Kategori\"].values[0] # İngilizce seviyesini değişkene atar.\n",
    "\n",
    "top_dinlenen = gecmis.iloc[0][\"Şarkı\"] # En çok dinlenen şarkının index numarasını alır.\n",
    "\n",
    "sarkı = df.loc[top_dinlenen, \"Şarkı\"] # İndex numarasını şarkının ismiyle eşleştirip değişkene atar.\n",
    "\n",
    "print(sarkı)"
   ]
  },
  {
   "cell_type": "markdown",
   "metadata": {},
   "source": [
    "-> Veri setinden kullanıcının en çok dinlediği şarkının ismini bulur."
   ]
  },
  {
   "cell_type": "code",
   "execution_count": 27,
   "metadata": {},
   "outputs": [],
   "source": [
    "tvf = TfidfVectorizer(min_df=1,max_df=3, max_features=350,ngram_range=(1,10),strip_accents=\"unicode\",analyzer=\"word\") # TfidfVectorizer sınıfı belgelerdeki terimlerin frekansını ölçerek belgeleri vektörlere dönüştürür.\n",
    "df[\"Temiz Metin\"] = df[\"Temiz Metin\"].fillna(\"\") # NaN değerleri boş bir karakter dizisiyle doldurur."
   ]
  },
  {
   "cell_type": "markdown",
   "metadata": {},
   "source": [
    "-> Belgeleri vektörlere dönüştürür ve olası boş değerleri belirler."
   ]
  },
  {
   "cell_type": "code",
   "execution_count": 28,
   "metadata": {},
   "outputs": [
    {
     "data": {
      "text/plain": [
       "<536x350 sparse matrix of type '<class 'numpy.float64'>'\n",
       "\twith 187600 stored elements in Compressed Sparse Row format>"
      ]
     },
     "execution_count": 28,
     "metadata": {},
     "output_type": "execute_result"
    }
   ],
   "source": [
    "x=df[\"Temiz Metin\"]\n",
    "\n",
    "tvf_matrix_list = [] #  Boş bir liste oluşturur.\n",
    "for text in x:\n",
    "    tvf_matrix = tvf.fit_transform([text]) # TfidfVectorizer'ı kullanarak tek bir metin belgesini vektöre dönüştürür ve TF-IDF matrisini oluşturur.\n",
    "    tvf_matrix_list.append(tvf_matrix) # Oluşturulan TF-IDF matrisini tvf_matrix_list listesine ekler.\n",
    "combined_tvf_matrix = sparse.vstack(tvf_matrix_list) # Listesindeki tüm TF-IDF matrislerini birleştirerek birleşik bir TF-IDF matrisi oluşturur.\n",
    "tvf_matrix = tvf.fit_transform(x) # Tüm \"Temiz Metin\" sütunundaki metin belgelerini bir araya getirerek tek bir TF-IDF matrisi oluşturur.\n",
    "combined_tvf_matrix"
   ]
  },
  {
   "cell_type": "markdown",
   "metadata": {},
   "source": [
    "-> Sigmoid metodunda kullanılacak matrixleri hazırlar."
   ]
  },
  {
   "cell_type": "code",
   "execution_count": 29,
   "metadata": {},
   "outputs": [],
   "source": [
    "sig = sigmoid_kernel(combined_tvf_matrix, combined_tvf_matrix)"
   ]
  },
  {
   "cell_type": "markdown",
   "metadata": {},
   "source": [
    "-> Sigmoid iki belge arasındaki benzerliği ölçmek için kullanılan bir kernel fonksiyonudur."
   ]
  },
  {
   "cell_type": "code",
   "execution_count": 30,
   "metadata": {},
   "outputs": [],
   "source": [
    "indicades = pd.Series(df.index , index= df[\"Şarkı\"]).drop_duplicates()"
   ]
  },
  {
   "cell_type": "code",
   "execution_count": 31,
   "metadata": {},
   "outputs": [
    {
     "data": {
      "text/plain": [
       "Şarkı\n",
       "WHO AM I                    0\n",
       "BY HIS WOUNDS               1\n",
       "GOD OF WONDERS              2\n",
       "I CAN ONLY IMAGINE          3\n",
       "MY SAVIOR MY GOD            4\n",
       "                         ... \n",
       "COLD SWEAT                531\n",
       "RAINY NIGHT IN GEORGIA    532\n",
       "TAKE ME TO THE RIVER      533\n",
       "C.C. RIDER                534\n",
       "DANCE TO THE MUSIC        535\n",
       "Length: 536, dtype: int64"
      ]
     },
     "execution_count": 31,
     "metadata": {},
     "output_type": "execute_result"
    }
   ],
   "source": [
    "indicades"
   ]
  },
  {
   "cell_type": "markdown",
   "metadata": {},
   "source": [
    "-> Şarkı isimlerini ait oldukları index numarasını indicades değişkenine atar."
   ]
  },
  {
   "cell_type": "code",
   "execution_count": 32,
   "metadata": {},
   "outputs": [],
   "source": [
    "def oneri_yap (title , sig=sig):\n",
    "    idx = indicades.loc[title] # Verilen şarkı için indeksi belirler.\n",
    "\n",
    "    sig_skor = list(enumerate(sig[idx])) # İndeks kullanarak, verilen şarkı için benzerlik skorlarını  alır ve bunları numaralandırır.\n",
    "\n",
    "    sig_skor = sorted(sig_skor, key=lambda x: x[1], reverse=True) # Benzerlik skorlarını, skorlarına göre büyükten küçüğe sıralar.\n",
    "\n",
    "    sig_skor = sig_skor[1:536] # En yüksek olanı(kendisi) hariç tüm skorları seçer.\n",
    "\n",
    "    song_indicades = [i[0] for i in sig_skor] # Önerilen şarkıların indekslerini alır.\n",
    "\n",
    "    return df.iloc[song_indicades][[\"Şarkı\", \"Sanatçı\", \"genre\", \"Kategori\"]] # Önerilen şarkıların bilgilerini içeren bir DataFrame döndürür."
   ]
  },
  {
   "cell_type": "markdown",
   "metadata": {},
   "source": [
    "-> Sigmoid metoduyla hesaplana benzerlik değerlerine göre öneri listesi oluşturan fonksiyon."
   ]
  },
  {
   "cell_type": "code",
   "execution_count": 33,
   "metadata": {},
   "outputs": [
    {
     "data": {
      "text/html": [
       "<div>\n",
       "<style scoped>\n",
       "    .dataframe tbody tr th:only-of-type {\n",
       "        vertical-align: middle;\n",
       "    }\n",
       "\n",
       "    .dataframe tbody tr th {\n",
       "        vertical-align: top;\n",
       "    }\n",
       "\n",
       "    .dataframe thead th {\n",
       "        text-align: right;\n",
       "    }\n",
       "</style>\n",
       "<table border=\"1\" class=\"dataframe\">\n",
       "  <thead>\n",
       "    <tr style=\"text-align: right;\">\n",
       "      <th></th>\n",
       "      <th>Şarkı</th>\n",
       "      <th>Sanatçı</th>\n",
       "      <th>genre</th>\n",
       "      <th>Kategori</th>\n",
       "    </tr>\n",
       "  </thead>\n",
       "  <tbody>\n",
       "    <tr>\n",
       "      <th>102</th>\n",
       "      <td>IT WASN'T GOD WHO MADE HONKY TONK ANGELS</td>\n",
       "      <td>KITTY WELLS</td>\n",
       "      <td>Country</td>\n",
       "      <td>A1-A2</td>\n",
       "    </tr>\n",
       "    <tr>\n",
       "      <th>11</th>\n",
       "      <td>WORD OF GOD SPEAK</td>\n",
       "      <td>MERCYME</td>\n",
       "      <td>Christian</td>\n",
       "      <td>A1-A2</td>\n",
       "    </tr>\n",
       "    <tr>\n",
       "      <th>115</th>\n",
       "      <td>HE'LL HAVE TO GO</td>\n",
       "      <td>JIM REEVES</td>\n",
       "      <td>Country</td>\n",
       "      <td>A1-A2</td>\n",
       "    </tr>\n",
       "    <tr>\n",
       "      <th>396</th>\n",
       "      <td>MADHOUSE</td>\n",
       "      <td>ANTHRAX</td>\n",
       "      <td>Rock</td>\n",
       "      <td>A1-A2</td>\n",
       "    </tr>\n",
       "    <tr>\n",
       "      <th>129</th>\n",
       "      <td>WALK ON BY</td>\n",
       "      <td>LEROY VAN DYKE</td>\n",
       "      <td>Country</td>\n",
       "      <td>A1-A2</td>\n",
       "    </tr>\n",
       "    <tr>\n",
       "      <th>...</th>\n",
       "      <td>...</td>\n",
       "      <td>...</td>\n",
       "      <td>...</td>\n",
       "      <td>...</td>\n",
       "    </tr>\n",
       "    <tr>\n",
       "      <th>364</th>\n",
       "      <td>I WANNA ROCK</td>\n",
       "      <td>TWISTED SISTER</td>\n",
       "      <td>Rock</td>\n",
       "      <td>A1-A2</td>\n",
       "    </tr>\n",
       "    <tr>\n",
       "      <th>510</th>\n",
       "      <td>RAPPER'S DELIGHT</td>\n",
       "      <td>THE SUGAR HILL GANG</td>\n",
       "      <td>R&amp;B</td>\n",
       "      <td>C1-C2</td>\n",
       "    </tr>\n",
       "    <tr>\n",
       "      <th>366</th>\n",
       "      <td>BREAKING THE LAW</td>\n",
       "      <td>JUDAS PRIEST</td>\n",
       "      <td>Rock</td>\n",
       "      <td>A1-A2</td>\n",
       "    </tr>\n",
       "    <tr>\n",
       "      <th>254</th>\n",
       "      <td>WHO'S THAT GIRL?</td>\n",
       "      <td>EVE</td>\n",
       "      <td>Hip-Hop</td>\n",
       "      <td>C1-C2</td>\n",
       "    </tr>\n",
       "    <tr>\n",
       "      <th>184</th>\n",
       "      <td>COLORS</td>\n",
       "      <td>ICE-T</td>\n",
       "      <td>Hip-Hop</td>\n",
       "      <td>C1-C2</td>\n",
       "    </tr>\n",
       "  </tbody>\n",
       "</table>\n",
       "<p>535 rows × 4 columns</p>\n",
       "</div>"
      ],
      "text/plain": [
       "                                        Şarkı              Sanatçı      genre  \\\n",
       "102  IT WASN'T GOD WHO MADE HONKY TONK ANGELS          KITTY WELLS    Country   \n",
       "11                          WORD OF GOD SPEAK              MERCYME  Christian   \n",
       "115                          HE'LL HAVE TO GO           JIM REEVES    Country   \n",
       "396                                  MADHOUSE              ANTHRAX       Rock   \n",
       "129                                WALK ON BY       LEROY VAN DYKE    Country   \n",
       "..                                        ...                  ...        ...   \n",
       "364                              I WANNA ROCK       TWISTED SISTER       Rock   \n",
       "510                          RAPPER'S DELIGHT  THE SUGAR HILL GANG        R&B   \n",
       "366                          BREAKING THE LAW         JUDAS PRIEST       Rock   \n",
       "254                          WHO'S THAT GIRL?                  EVE    Hip-Hop   \n",
       "184                                    COLORS                ICE-T    Hip-Hop   \n",
       "\n",
       "    Kategori  \n",
       "102    A1-A2  \n",
       "11     A1-A2  \n",
       "115    A1-A2  \n",
       "396    A1-A2  \n",
       "129    A1-A2  \n",
       "..       ...  \n",
       "364    A1-A2  \n",
       "510    C1-C2  \n",
       "366    A1-A2  \n",
       "254    C1-C2  \n",
       "184    C1-C2  \n",
       "\n",
       "[535 rows x 4 columns]"
      ]
     },
     "execution_count": 33,
     "metadata": {},
     "output_type": "execute_result"
    }
   ],
   "source": [
    "oneri_listesi = oneri_yap(sarkı)\n",
    "oneri_listesi"
   ]
  },
  {
   "cell_type": "markdown",
   "metadata": {},
   "source": [
    "-> Oluşturulmuş öneri listesi."
   ]
  },
  {
   "cell_type": "code",
   "execution_count": 34,
   "metadata": {},
   "outputs": [],
   "source": [
    "oneri_listesi = oneri_listesi.loc[oneri_listesi[\"Kategori\"] == ingilizce_seviyesi] # Öneri listesini kullanıcının seviyesine göre daraltır.\n",
    "kullaniciya_sunulacak = oneri_listesi.head(20) # Kullanıcıya sunulacak verileri toplar."
   ]
  },
  {
   "cell_type": "markdown",
   "metadata": {},
   "source": [
    "-> Öneri listesini kullanıcının seviyesine göre sınıflandırır ve seçer."
   ]
  },
  {
   "cell_type": "code",
   "execution_count": 35,
   "metadata": {},
   "outputs": [],
   "source": [
    "root = tk.Tk()\n",
    "root.title(\"Öneriler\") # Sekmenin başlığını oluşturur.\n",
    "\n",
    "table = ttk.Treeview(root) # Tablo oluşturur.\n",
    "table[\"columns\"] = list(kullaniciya_sunulacak) \n",
    "table[\"show\"] = \"headings\"\n",
    "\n",
    "for column in kullaniciya_sunulacak: # Veri başlıklarını tabloya yerleştirir.\n",
    "    table.heading(column, text=column)\n",
    "\n",
    "for index, row in kullaniciya_sunulacak.iterrows(): # Verileri tabloya yerleştirir.\n",
    "    table.insert(\"\", \"end\", values=list(row))\n",
    "\n",
    "table.pack(expand=True, fill=\"both\")"
   ]
  },
  {
   "cell_type": "markdown",
   "metadata": {},
   "source": [
    "-> Kullanıcıya önerilen şarkıları bir ayarüz yardımıyla gösterir."
   ]
  },
  {
   "cell_type": "code",
   "execution_count": 36,
   "metadata": {},
   "outputs": [],
   "source": [
    "root.mainloop()"
   ]
  }
 ],
 "metadata": {
  "kernelspec": {
   "display_name": "Python 3",
   "language": "python",
   "name": "python3"
  },
  "language_info": {
   "codemirror_mode": {
    "name": "ipython",
    "version": 3
   },
   "file_extension": ".py",
   "mimetype": "text/x-python",
   "name": "python",
   "nbconvert_exporter": "python",
   "pygments_lexer": "ipython3",
   "version": "3.12.3"
  }
 },
 "nbformat": 4,
 "nbformat_minor": 2
}
